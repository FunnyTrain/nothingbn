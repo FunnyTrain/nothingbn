{
 "cells": [
  {
   "cell_type": "code",
   "execution_count": 7,
   "metadata": {},
   "outputs": [],
   "source": [
    "import pandas as pd"
   ]
  },
  {
   "cell_type": "markdown",
   "metadata": {},
   "source": [
    "# Looking csv's"
   ]
  },
  {
   "cell_type": "code",
   "execution_count": 15,
   "metadata": {},
   "outputs": [
    {
     "name": "stdout",
     "output_type": "stream",
     "text": [
      "Index(['Disease', 'Symptom_1', 'Symptom_2', 'Symptom_3', 'Symptom_4',\n",
      "       'Symptom_5', 'Symptom_6', 'Symptom_7', 'Symptom_8', 'Symptom_9',\n",
      "       'Symptom_10', 'Symptom_11', 'Symptom_12', 'Symptom_13', 'Symptom_14',\n",
      "       'Symptom_15', 'Symptom_16', 'Symptom_17'],\n",
      "      dtype='object')\n",
      "Columnas:  18\n",
      "Filas:  4920\n"
     ]
    }
   ],
   "source": [
    "df = pd.read_csv('csv//dataset.csv')\n",
    "df.head()\n",
    "print(df.columns)\n",
    "print(\"Columnas: \", len(df.columns))\n",
    "print(\"Filas: \", len(df))"
   ]
  },
  {
   "cell_type": "code",
   "execution_count": 16,
   "metadata": {},
   "outputs": [
    {
     "name": "stdout",
     "output_type": "stream",
     "text": [
      "Index(['Disease', 'Description'], dtype='object')\n",
      "Columnas:  2\n",
      "Filas:  41\n"
     ]
    }
   ],
   "source": [
    "df_SD = pd.read_csv('csv//symptom_Description.csv')\n",
    "df_SD.head()\n",
    "print(df_SD.columns)\n",
    "print(\"Columnas: \", len(df_SD.columns))\n",
    "print(\"Filas: \", len(df_SD))"
   ]
  },
  {
   "cell_type": "code",
   "execution_count": 17,
   "metadata": {},
   "outputs": [
    {
     "name": "stdout",
     "output_type": "stream",
     "text": [
      "Index(['Disease', 'Precaution_1', 'Precaution_2', 'Precaution_3',\n",
      "       'Precaution_4'],\n",
      "      dtype='object')\n",
      "Columnas:  5\n",
      "Filas:  41\n"
     ]
    }
   ],
   "source": [
    "df_SP = pd.read_csv('csv//symptom_precaution.csv')\n",
    "df_SP.head()\n",
    "print(df_SP.columns)\n",
    "print(\"Columnas: \", len(df_SP.columns))\n",
    "print(\"Filas: \", len(df_SP))"
   ]
  },
  {
   "cell_type": "code",
   "execution_count": 18,
   "metadata": {},
   "outputs": [
    {
     "name": "stdout",
     "output_type": "stream",
     "text": [
      "Index(['Symptom', 'weight'], dtype='object')\n",
      "Columnas:  2\n",
      "Filas:  133\n"
     ]
    }
   ],
   "source": [
    "df_SS = pd.read_csv('csv//Symptom-severity.csv')\n",
    "df_SS.head()\n",
    "print(df_SS.columns)\n",
    "print(\"Columnas: \", len(df_SS.columns))\n",
    "print(\"Filas: \", len(df_SS))"
   ]
  }
 ],
 "metadata": {
  "kernelspec": {
   "display_name": "nothing-env",
   "language": "python",
   "name": "python3"
  },
  "language_info": {
   "codemirror_mode": {
    "name": "ipython",
    "version": 3
   },
   "file_extension": ".py",
   "mimetype": "text/x-python",
   "name": "python",
   "nbconvert_exporter": "python",
   "pygments_lexer": "ipython3",
   "version": "3.9.21"
  }
 },
 "nbformat": 4,
 "nbformat_minor": 2
}
